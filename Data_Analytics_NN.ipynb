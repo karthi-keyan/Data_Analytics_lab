{
  "nbformat": 4,
  "nbformat_minor": 0,
  "metadata": {
    "colab": {
      "name": "Data Analytics NN.ipynb",
      "version": "0.3.2",
      "provenance": [],
      "collapsed_sections": []
    },
    "kernelspec": {
      "name": "python3",
      "display_name": "Python 3"
    }
  },
  "cells": [
    {
      "cell_type": "code",
      "metadata": {
        "id": "PaR66NkHgtou",
        "colab_type": "code",
        "colab": {}
      },
      "source": [
        "#First I tried with numpy only\n",
        "from numpy import exp, array, random, dot"
      ],
      "execution_count": 0,
      "outputs": []
    },
    {
      "cell_type": "code",
      "metadata": {
        "id": "CHc7SqPMhDrf",
        "colab_type": "code",
        "colab": {}
      },
      "source": [
        "\n",
        "from numpy import exp, array, random, dot\n",
        "import numpy as np\n",
        "\n",
        "class ANN:\n",
        "  def __init__(self):\n",
        "    self.synaptic_weights_1 = np.array([[0.2,-0.3],[0.4,0.1],[-0.5,0.2]])\n",
        "    self.synaptic_bias_1    = np.array([0.4,0.2])\n",
        "    self.synaptic_weights_2 = np.array([[-0.3,0.2,0.6],[-0.2,-0.1,-0.2,]])\n",
        "    self.synaptic_bias_2    = np.array([0.1,0.1,0.2])\n",
        "    self.synaptic_weights_3 = np.array([[0.3,0.2],[-0.5,0.5],[0.7,0.2]])\n",
        "    self.synaptic_bias_3    = np.array([-0.1,-0.2])\n",
        "    self.lr=0.9\n",
        "    \n",
        "  \n",
        "  def print_weights(self):\n",
        "    print(\"weights...\")\n",
        "    print(self.synaptic_weights_1,self.synaptic_weights_1.shape)\n",
        "    print(self.synaptic_weights_2,self.synaptic_weights_2.shape)\n",
        "    print(self.synaptic_weights_3,self.synaptic_weights_3.shape)\n",
        "    \n",
        "  def __sigmoid(self, x):\n",
        "    return 1 / (1 + exp(-x))\n",
        "\n",
        "  def __sigmoid_derivative(self, x):\n",
        "    return x * (1 - x)\n",
        "  \n",
        "  def train(self, training_set_inputs, training_set_outputs, number_of_training_iterations):\n",
        "    for iteration in range(number_of_training_iterations):\n",
        "        o1 = self.think(training_set_inputs,self.synaptic_weights_1,self.synaptic_bias_1)\n",
        "        o2 = self.think(o1,self.synaptic_weights_2,self.synaptic_bias_2)\n",
        "        o3 = self.think(o2,self.synaptic_weights_3,self.synaptic_bias_3)\n",
        "        \n",
        "        print(\"outputs\\n\",o1,o2,o3)\n",
        "        \n",
        "        e3 = dot(dot(o3,1-o3),training_set_outputs-o3)\n",
        "        e2 = dot(dot(o2,1-o2),np.dot(e3,self.synaptic_weights_3.reshape(2,3)))\n",
        "        e1 = dot(dot(o1,1-o1),np.dot(e2,self.synaptic_weights_3.reshape(3,2)))\n",
        "        \n",
        "        print(\"error\\n\",e1,e2,e3)\n",
        "        \n",
        "        del_weight_3 = self.lr*e3*o3\n",
        "        del_weight_2 = self.lr*e2*o2\n",
        "        del_weight_1 = self.lr*e1*o1\n",
        "        \n",
        "        print(\"del_weights\\n\",del_weight_1,del_weight_2,del_weight_3)        \n",
        "        \n",
        "        self.synaptic_weights_1 = self.synaptic_weights_1 + del_weight_1\n",
        "        self.synaptic_weights_2 = self.synaptic_weights_2 + del_weight_2\n",
        "        self.synaptic_weights_3 = self.synaptic_weights_3 + del_weight_3\n",
        "        \n",
        "        self.print_weights()\n",
        "\n",
        "  def think(self, inputs,weights,bias):\n",
        "    return self.__sigmoid(dot(inputs, weights)+bias)\n",
        "\n",
        "  "
      ],
      "execution_count": 0,
      "outputs": []
    },
    {
      "cell_type": "code",
      "metadata": {
        "id": "P4XkAIXIjt2f",
        "colab_type": "code",
        "outputId": "059c5414-61b0-4442-f080-2f3748111318",
        "colab": {
          "base_uri": "https://localhost:8080/",
          "height": 458
        }
      },
      "source": [
        "inp=np.array([1,0,1])\n",
        "out=np.array([1,0])\n",
        "\n",
        "\n",
        "ann=ANN()\n",
        "ann.print_weights()\n",
        "ann.train(inp,out,1)"
      ],
      "execution_count": 8,
      "outputs": [
        {
          "output_type": "stream",
          "text": [
            "weights...\n",
            "[[ 0.2 -0.3]\n",
            " [ 0.4  0.1]\n",
            " [-0.5  0.2]] (3, 2)\n",
            "[[-0.3  0.2  0.6]\n",
            " [-0.2 -0.1 -0.2]] (2, 3)\n",
            "[[ 0.3  0.2]\n",
            " [-0.5  0.5]\n",
            " [ 0.7  0.2]] (3, 2)\n",
            "outputs\n",
            " [0.52497919 0.52497919] [0.45946675 0.53805077 0.60108588] [0.54725226 0.56982469]\n",
            "error\n",
            " [-0.02332579 -0.04564644] [-0.05413518 -0.11195652 -0.12358003] [ 0.22315562 -0.28086188]\n",
            "del_weights\n",
            " [-0.011021   -0.02156709] [-0.02238598 -0.05421446 -0.06685399] [ 0.10991018 -0.14403783]\n",
            "weights...\n",
            "[[ 0.188979   -0.32156709]\n",
            " [ 0.388979    0.07843291]\n",
            " [-0.511021    0.17843291]] (3, 2)\n",
            "[[-0.32238598  0.14578554  0.53314601]\n",
            " [-0.22238598 -0.15421446 -0.26685399]] (2, 3)\n",
            "[[ 0.40991018  0.05596217]\n",
            " [-0.39008982  0.35596217]\n",
            " [ 0.80991018  0.05596217]] (3, 2)\n"
          ],
          "name": "stdout"
        }
      ]
    },
    {
      "cell_type": "code",
      "metadata": {
        "id": "29U6Rb5BjzaT",
        "colab_type": "code",
        "colab": {
          "base_uri": "https://localhost:8080/",
          "height": 35
        },
        "outputId": "afc1dca5-c238-47cf-de1f-bd0e6b113ae3"
      },
      "source": [
        "#And then I tried with Keras\n",
        "from keras.models import Sequential\n",
        "from keras.layers import Dense\n",
        "import numpy as np"
      ],
      "execution_count": 1,
      "outputs": [
        {
          "output_type": "stream",
          "text": [
            "Using TensorFlow backend.\n"
          ],
          "name": "stderr"
        }
      ]
    },
    {
      "cell_type": "code",
      "metadata": {
        "id": "s6Kxz8ViylnX",
        "colab_type": "code",
        "colab": {}
      },
      "source": [
        "hidden_weight_1=np.array([[0.2,-0.3],[0.4,0.1],[-0.5,0.2]])\n",
        "hidden_bias_1=np.array([0.4,0.2])\n",
        "hidden_weight_2=np.array([[-0.3,0.2,0.6],[-0.2,-0.1,-0.2]])\n",
        "hidden_bias_2=np.array([0.1,0.1,0.2])\n",
        "hidden_weight_3=np.array([[0.3,0.2],[-0.5,0.5],[0.7,0.2]])\n",
        "hidden_bias_3=np.array([-0.1,-0.2])\n",
        "weights=[hidden_weight_1,hidden_bias_1,hidden_weight_2,hidden_bias_2,hidden_weight_3,hidden_bias_3]"
      ],
      "execution_count": 0,
      "outputs": []
    },
    {
      "cell_type": "code",
      "metadata": {
        "id": "UUFzLVoB4JiX",
        "colab_type": "code",
        "colab": {
          "base_uri": "https://localhost:8080/",
          "height": 276
        },
        "outputId": "d9f4ecc9-fb34-4e4d-8eae-e1d302f80f86"
      },
      "source": [
        "model = Sequential()\n",
        "h1 = model.add(Dense(2,activation=\"sigmoid\",input_dim=3))\n",
        "h2=model.add(Dense(3,activation=\"sigmoid\"))\n",
        "o = model.add(Dense(2,activation=\"sigmoid\"))\n",
        "model.compile(loss=\"mean_squared_error\",optimizer=\"Adam\",metrics=['accuracy'])\n",
        "model.set_weights(weights)\n"
      ],
      "execution_count": 3,
      "outputs": [
        {
          "output_type": "stream",
          "text": [
            "WARNING: Logging before flag parsing goes to stderr.\n",
            "W0902 16:48:36.471134 140354220689280 deprecation_wrapper.py:119] From /usr/local/lib/python3.6/dist-packages/keras/backend/tensorflow_backend.py:66: The name tf.get_default_graph is deprecated. Please use tf.compat.v1.get_default_graph instead.\n",
            "\n",
            "W0902 16:48:36.520877 140354220689280 deprecation_wrapper.py:119] From /usr/local/lib/python3.6/dist-packages/keras/backend/tensorflow_backend.py:541: The name tf.placeholder is deprecated. Please use tf.compat.v1.placeholder instead.\n",
            "\n",
            "W0902 16:48:36.529679 140354220689280 deprecation_wrapper.py:119] From /usr/local/lib/python3.6/dist-packages/keras/backend/tensorflow_backend.py:4432: The name tf.random_uniform is deprecated. Please use tf.random.uniform instead.\n",
            "\n",
            "W0902 16:48:36.577399 140354220689280 deprecation_wrapper.py:119] From /usr/local/lib/python3.6/dist-packages/keras/optimizers.py:793: The name tf.train.Optimizer is deprecated. Please use tf.compat.v1.train.Optimizer instead.\n",
            "\n",
            "W0902 16:48:36.628501 140354220689280 deprecation_wrapper.py:119] From /usr/local/lib/python3.6/dist-packages/keras/backend/tensorflow_backend.py:190: The name tf.get_default_session is deprecated. Please use tf.compat.v1.get_default_session instead.\n",
            "\n",
            "W0902 16:48:36.629773 140354220689280 deprecation_wrapper.py:119] From /usr/local/lib/python3.6/dist-packages/keras/backend/tensorflow_backend.py:197: The name tf.ConfigProto is deprecated. Please use tf.compat.v1.ConfigProto instead.\n",
            "\n"
          ],
          "name": "stderr"
        }
      ]
    },
    {
      "cell_type": "code",
      "metadata": {
        "id": "UT9M5AEg4M7Z",
        "colab_type": "code",
        "colab": {
          "base_uri": "https://localhost:8080/",
          "height": 72
        },
        "outputId": "67d0f957-51ab-4d7c-a09b-824f0ddd6326"
      },
      "source": [
        "x=np.array([[1,0,1]])\n",
        "y=np.array([[1,0]])\n",
        "model.fit(x,y,epochs=1)"
      ],
      "execution_count": 4,
      "outputs": [
        {
          "output_type": "stream",
          "text": [
            "Epoch 1/1\n",
            "1/1 [==============================] - 0s 385ms/step - loss: 0.2648 - acc: 0.0000e+00\n"
          ],
          "name": "stdout"
        },
        {
          "output_type": "execute_result",
          "data": {
            "text/plain": [
              "<keras.callbacks.History at 0x7fa68a15cb00>"
            ]
          },
          "metadata": {
            "tags": []
          },
          "execution_count": 4
        }
      ]
    },
    {
      "cell_type": "code",
      "metadata": {
        "id": "UmpACeB54QC3",
        "colab_type": "code",
        "colab": {
          "base_uri": "https://localhost:8080/",
          "height": 219
        },
        "outputId": "a238dfe7-002f-4db2-f3ed-ca01426ffe69"
      },
      "source": [
        "model.get_weights()"
      ],
      "execution_count": 5,
      "outputs": [
        {
          "output_type": "execute_result",
          "data": {
            "text/plain": [
              "[array([[ 0.20072854, -0.2992777 ],\n",
              "        [ 0.4       ,  0.1       ],\n",
              "        [-0.49927148,  0.20072232]], dtype=float32),\n",
              " array([0.40072852, 0.20072232], dtype=float32),\n",
              " array([[-0.299259  ,  0.19925602,  0.6007438 ],\n",
              "        [-0.19925901, -0.10074399, -0.19925624]], dtype=float32),\n",
              " array([0.10074248, 0.09925594, 0.20074394], dtype=float32),\n",
              " array([[ 0.3007441,  0.1992559],\n",
              "        [-0.4992559,  0.4992559],\n",
              "        [ 0.7007441,  0.1992559]], dtype=float32),\n",
              " array([-0.09925589, -0.20074412], dtype=float32)]"
            ]
          },
          "metadata": {
            "tags": []
          },
          "execution_count": 5
        }
      ]
    },
    {
      "cell_type": "code",
      "metadata": {
        "id": "vLRmk0Zs4TCk",
        "colab_type": "code",
        "colab": {}
      },
      "source": [
        ""
      ],
      "execution_count": 0,
      "outputs": []
    }
  ]
}